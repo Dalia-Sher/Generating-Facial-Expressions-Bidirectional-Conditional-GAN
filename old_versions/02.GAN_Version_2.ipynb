{
  "nbformat": 4,
  "nbformat_minor": 0,
  "metadata": {
    "colab": {
      "name": "GAN_Facial_images_new.ipynb",
      "provenance": [],
      "collapsed_sections": []
    },
    "kernelspec": {
      "display_name": "Python 3",
      "language": "python",
      "name": "python3"
    },
    "language_info": {
      "codemirror_mode": {
        "name": "ipython",
        "version": 3
      },
      "file_extension": ".py",
      "mimetype": "text/x-python",
      "name": "python",
      "nbconvert_exporter": "python",
      "pygments_lexer": "ipython3",
      "version": "3.7.4"
    },
    "toc": {
      "base_numbering": 1,
      "nav_menu": {},
      "number_sections": true,
      "sideBar": true,
      "skip_h1_title": false,
      "title_cell": "Table of Contents",
      "title_sidebar": "Contents",
      "toc_cell": false,
      "toc_position": {
        "height": "calc(100% - 180px)",
        "left": "10px",
        "top": "150px",
        "width": "384px"
      },
      "toc_section_display": true,
      "toc_window_display": true
    },
    "accelerator": "GPU"
  },
  "cells": [
    {
      "cell_type": "code",
      "metadata": {
        "id": "H_ztZ4LSNDO_"
      },
      "source": [
        "# Importing relevant libraries\n",
        "\n",
        "import os\n",
        "import time\n",
        "import numpy as np\n",
        "import pandas as pd\n",
        "import tensorflow as tf\n",
        "import matplotlib.pyplot as plt\n",
        "\n",
        "from IPython import display\n",
        "from numpy import expand_dims, zeros, ones\n",
        "from numpy.random import randn, randint\n",
        "from keras.optimizers import Adam\n",
        "from keras.models import Sequential, load_model\n",
        "from keras.layers import Dense, Reshape, Flatten, Conv2D, Conv2DTranspose, LeakyReLU, Dropout "
      ],
      "execution_count": 1,
      "outputs": []
    },
    {
      "cell_type": "markdown",
      "metadata": {
        "id": "6LMHuDms3Yi6"
      },
      "source": [
        "## Dataset"
      ]
    },
    {
      "cell_type": "code",
      "metadata": {
        "colab": {
          "base_uri": "https://localhost:8080/",
          "height": 204
        },
        "id": "kaFfzVqGNDPG",
        "outputId": "c6ee94db-69e6-40c7-be16-973cab7c0e22"
      },
      "source": [
        "# data from: https://machinelearningmastery.com/how-to-develop-a-conditional-generative-adversarial-network-from-scratch/\n",
        "# code from: https://www.tensorflow.org/tutorials/generative/dcgan\n",
        "\n",
        "data = pd.read_csv('./fer2013.csv')\n",
        "data.head()"
      ],
      "execution_count": 2,
      "outputs": [
        {
          "output_type": "execute_result",
          "data": {
            "text/html": [
              "<div>\n",
              "<style scoped>\n",
              "    .dataframe tbody tr th:only-of-type {\n",
              "        vertical-align: middle;\n",
              "    }\n",
              "\n",
              "    .dataframe tbody tr th {\n",
              "        vertical-align: top;\n",
              "    }\n",
              "\n",
              "    .dataframe thead th {\n",
              "        text-align: right;\n",
              "    }\n",
              "</style>\n",
              "<table border=\"1\" class=\"dataframe\">\n",
              "  <thead>\n",
              "    <tr style=\"text-align: right;\">\n",
              "      <th></th>\n",
              "      <th>emotion</th>\n",
              "      <th>pixels</th>\n",
              "      <th>Usage</th>\n",
              "    </tr>\n",
              "  </thead>\n",
              "  <tbody>\n",
              "    <tr>\n",
              "      <th>0</th>\n",
              "      <td>0</td>\n",
              "      <td>70 80 82 72 58 58 60 63 54 58 60 48 89 115 121...</td>\n",
              "      <td>Training</td>\n",
              "    </tr>\n",
              "    <tr>\n",
              "      <th>1</th>\n",
              "      <td>0</td>\n",
              "      <td>151 150 147 155 148 133 111 140 170 174 182 15...</td>\n",
              "      <td>Training</td>\n",
              "    </tr>\n",
              "    <tr>\n",
              "      <th>2</th>\n",
              "      <td>2</td>\n",
              "      <td>231 212 156 164 174 138 161 173 182 200 106 38...</td>\n",
              "      <td>Training</td>\n",
              "    </tr>\n",
              "    <tr>\n",
              "      <th>3</th>\n",
              "      <td>4</td>\n",
              "      <td>24 32 36 30 32 23 19 20 30 41 21 22 32 34 21 1...</td>\n",
              "      <td>Training</td>\n",
              "    </tr>\n",
              "    <tr>\n",
              "      <th>4</th>\n",
              "      <td>6</td>\n",
              "      <td>4 0 0 0 0 0 0 0 0 0 0 0 3 15 23 28 48 50 58 84...</td>\n",
              "      <td>Training</td>\n",
              "    </tr>\n",
              "  </tbody>\n",
              "</table>\n",
              "</div>"
            ],
            "text/plain": [
              "   emotion                                             pixels     Usage\n",
              "0        0  70 80 82 72 58 58 60 63 54 58 60 48 89 115 121...  Training\n",
              "1        0  151 150 147 155 148 133 111 140 170 174 182 15...  Training\n",
              "2        2  231 212 156 164 174 138 161 173 182 200 106 38...  Training\n",
              "3        4  24 32 36 30 32 23 19 20 30 41 21 22 32 34 21 1...  Training\n",
              "4        6  4 0 0 0 0 0 0 0 0 0 0 0 3 15 23 28 48 50 58 84...  Training"
            ]
          },
          "metadata": {
            "tags": []
          },
          "execution_count": 2
        }
      ]
    },
    {
      "cell_type": "code",
      "metadata": {
        "colab": {
          "base_uri": "https://localhost:8080/"
        },
        "id": "5cW5c1PUNDPH",
        "outputId": "299b7fc8-0f52-432b-f970-06bd2f7e9a92"
      },
      "source": [
        "data.Usage.value_counts()"
      ],
      "execution_count": 3,
      "outputs": [
        {
          "output_type": "execute_result",
          "data": {
            "text/plain": [
              "Training       28709\n",
              "PrivateTest     3589\n",
              "PublicTest      3589\n",
              "Name: Usage, dtype: int64"
            ]
          },
          "metadata": {
            "tags": []
          },
          "execution_count": 3
        }
      ]
    },
    {
      "cell_type": "code",
      "metadata": {
        "id": "cJoW1At-NDPH"
      },
      "source": [
        "num_classes = 7\n",
        "img_width = 48\n",
        "img_height = 48"
      ],
      "execution_count": 4,
      "outputs": []
    },
    {
      "cell_type": "code",
      "metadata": {
        "colab": {
          "base_uri": "https://localhost:8080/"
        },
        "id": "K5JGYhGJNDPI",
        "outputId": "077acf7b-1cd0-4b9c-b97c-e9ea1203b0c0"
      },
      "source": [
        "data.shape"
      ],
      "execution_count": 5,
      "outputs": [
        {
          "output_type": "execute_result",
          "data": {
            "text/plain": [
              "(35887, 3)"
            ]
          },
          "metadata": {
            "tags": []
          },
          "execution_count": 5
        }
      ]
    },
    {
      "cell_type": "code",
      "metadata": {
        "id": "UsYmNneVNDPI"
      },
      "source": [
        "X = data['pixels']\n",
        "y = data['emotion']"
      ],
      "execution_count": 6,
      "outputs": []
    },
    {
      "cell_type": "code",
      "metadata": {
        "id": "WMr4SsDXNDPI"
      },
      "source": [
        "X_train = []\n",
        "for i in X:\n",
        "    X_train.append([int(j) for j in i.split()])\n",
        "\n",
        "X_train = np.array(X_train)/255.0"
      ],
      "execution_count": 7,
      "outputs": []
    },
    {
      "cell_type": "code",
      "metadata": {
        "id": "D4nw9-WnNDPJ"
      },
      "source": [
        "X_train = X_train.reshape(X_train.shape[0], img_width, img_height, 1)\n",
        "X_train = X_train.astype('float32')"
      ],
      "execution_count": 8,
      "outputs": []
    },
    {
      "cell_type": "code",
      "metadata": {
        "colab": {
          "base_uri": "https://localhost:8080/"
        },
        "id": "agw-xCtdNDPJ",
        "outputId": "cb528f9a-e958-4320-fa7a-50b652e52be8"
      },
      "source": [
        "X_train.shape"
      ],
      "execution_count": 9,
      "outputs": [
        {
          "output_type": "execute_result",
          "data": {
            "text/plain": [
              "(35887, 48, 48, 1)"
            ]
          },
          "metadata": {
            "tags": []
          },
          "execution_count": 9
        }
      ]
    },
    {
      "cell_type": "code",
      "metadata": {
        "id": "ZxFfsemdNDPJ"
      },
      "source": [
        "# BUFFER_SIZE = 60000\n",
        "# BATCH_SIZE = 256"
      ],
      "execution_count": null,
      "outputs": []
    },
    {
      "cell_type": "code",
      "metadata": {
        "id": "wGy-_CyoNDPK"
      },
      "source": [
        "# Batch and shuffle the data\n",
        "#train_dataset = tf.data.Dataset.from_tensor_slices(X_train).shuffle(BUFFER_SIZE).batch(BATCH_SIZE)"
      ],
      "execution_count": null,
      "outputs": []
    },
    {
      "cell_type": "markdown",
      "metadata": {
        "id": "_Zz2qM90NDPK"
      },
      "source": [
        "## Discriminator Model"
      ]
    },
    {
      "cell_type": "code",
      "metadata": {
        "id": "oXypt9fKNDPK"
      },
      "source": [
        "# define the standalone discriminator model\n",
        "def define_discriminator(in_shape=(48,48,1)):\n",
        "    model = Sequential()\n",
        "    # downsample\n",
        "    model.add(Conv2D(128, (3,3), strides=(2,2), padding='same', input_shape=in_shape))\n",
        "    model.add(LeakyReLU(alpha=0.2))\n",
        "    # downsample\n",
        "    model.add(Conv2D(128, (3,3), strides=(2,2), padding='same'))\n",
        "    model.add(LeakyReLU(alpha=0.2))\n",
        "    # classifier\n",
        "    model.add(Flatten())\n",
        "    model.add(Dropout(0.4))\n",
        "    model.add(Dense(1, activation='sigmoid'))\n",
        "    # compile model\n",
        "    opt = Adam(lr=0.0002, beta_1=0.5)\n",
        "    model.compile(loss='binary_crossentropy', optimizer=opt, metrics=['accuracy'])\n",
        "    return model"
      ],
      "execution_count": 10,
      "outputs": []
    },
    {
      "cell_type": "markdown",
      "metadata": {
        "id": "ow9Tiha4NDPK"
      },
      "source": [
        "## Generator Model"
      ]
    },
    {
      "cell_type": "code",
      "metadata": {
        "id": "zre1RvkLNDPK"
      },
      "source": [
        "# define the standalone generator model\n",
        "def define_generator(latent_dim):\n",
        "    model = Sequential()\n",
        "    # foundation for 12x12 image\n",
        "    n_nodes = 128 * 12 * 12\n",
        "    model.add(Dense(n_nodes, input_dim=latent_dim))\n",
        "    model.add(LeakyReLU(alpha=0.2))\n",
        "    model.add(Reshape((12, 12, 128)))\n",
        "    # upsample to 24x24\n",
        "    model.add(Conv2DTranspose(128, (4,4), strides=(2,2), padding='same'))\n",
        "    model.add(LeakyReLU(alpha=0.2))\n",
        "    # upsample to 48x48\n",
        "    model.add(Conv2DTranspose(128, (4,4), strides=(2,2), padding='same'))\n",
        "    model.add(LeakyReLU(alpha=0.2))\n",
        "    # generate\n",
        "    model.add(Conv2D(1, (12, 12), activation='tanh', padding='same'))\n",
        "    return model"
      ],
      "execution_count": 11,
      "outputs": []
    },
    {
      "cell_type": "code",
      "metadata": {
        "id": "QT9pmBb9NDPL"
      },
      "source": [
        "# define the combined generator and discriminator model, for updating the generator\n",
        "def define_gan(generator, discriminator):\n",
        "\t# make weights in the discriminator not trainable\n",
        "\tdiscriminator.trainable = False\n",
        "\t# connect them\n",
        "\tmodel = Sequential()\n",
        "\t# add generator\n",
        "\tmodel.add(generator)\n",
        "\t# add the discriminator\n",
        "\tmodel.add(discriminator)\n",
        "\t# compile model\n",
        "\topt = Adam(lr=0.0002, beta_1=0.5)\n",
        "\tmodel.compile(loss='binary_crossentropy', optimizer=opt)\n",
        "\treturn model"
      ],
      "execution_count": 12,
      "outputs": []
    },
    {
      "cell_type": "code",
      "metadata": {
        "id": "cWWvHceINDPL"
      },
      "source": [
        "# select real samples\n",
        "def generate_real_samples(dataset, n_samples):\n",
        "\t# choose random instances\n",
        "\tix = randint(0, dataset.shape[0], n_samples)\n",
        "\t# select images\n",
        "\tX = dataset[ix]\n",
        "\t# generate class labels\n",
        "\ty = ones((n_samples, 1))\n",
        "\treturn X, y"
      ],
      "execution_count": 13,
      "outputs": []
    },
    {
      "cell_type": "code",
      "metadata": {
        "id": "P_Tow9nONDPL"
      },
      "source": [
        "# generate points in latent space as input for the generator\n",
        "def generate_latent_points(latent_dim, n_samples):\n",
        "\t# generate points in the latent space\n",
        "\tx_input = randn(latent_dim * n_samples)\n",
        "\t# reshape into a batch of inputs for the network\n",
        "\tx_input = x_input.reshape(n_samples, latent_dim)\n",
        "\treturn x_input"
      ],
      "execution_count": 14,
      "outputs": []
    },
    {
      "cell_type": "code",
      "metadata": {
        "id": "NAmSOuttNDPM"
      },
      "source": [
        "# use the generator to generate n fake examples, with class labels\n",
        "def generate_fake_samples(generator, latent_dim, n_samples):\n",
        "\t# generate points in latent space\n",
        "\tx_input = generate_latent_points(latent_dim, n_samples)\n",
        "\t# predict outputs\n",
        "\tX = generator.predict(x_input)\n",
        "\t# create class labels\n",
        "\ty = zeros((n_samples, 1))\n",
        "\treturn X, y"
      ],
      "execution_count": 15,
      "outputs": []
    },
    {
      "cell_type": "code",
      "metadata": {
        "id": "iqShQeL2NDPM"
      },
      "source": [
        "# train the generator and discriminator\n",
        "def train(g_model, d_model, gan_model, dataset, latent_dim, n_epochs=100, n_batch=128):\n",
        "\tbat_per_epo = int(dataset.shape[0] / n_batch)\n",
        "\thalf_batch = int(n_batch / 2)\n",
        "\t# manually enumerate epochs\n",
        "\tfor i in range(n_epochs):\n",
        "    start = time.time()\n",
        "\t\t# enumerate batches over the training set\n",
        "\t\tfor j in range(bat_per_epo):\n",
        "\t\t\t# get randomly selected 'real' samples\n",
        "\t\t\tX_real, y_real = generate_real_samples(dataset, half_batch)\n",
        "\t\t\t# update discriminator model weights\n",
        "\t\t\td_loss1, _ = d_model.train_on_batch(X_real, y_real)\n",
        "\t\t\t# generate 'fake' examples\n",
        "\t\t\tX_fake, y_fake = generate_fake_samples(g_model, latent_dim, half_batch)\n",
        "\t\t\t# update discriminator model weights\n",
        "\t\t\td_loss2, _ = d_model.train_on_batch(X_fake, y_fake)\n",
        "\t\t\t# prepare points in latent space as input for the generator\n",
        "\t\t\tX_gan = generate_latent_points(latent_dim, n_batch)\n",
        "\t\t\t# create inverted labels for the fake samples\n",
        "\t\t\ty_gan = ones((n_batch, 1))\n",
        "\t\t\t# update the generator via the discriminator's error\n",
        "\t\t\tg_loss = gan_model.train_on_batch(X_gan, y_gan)\n",
        "\t\t# summarize loss on this epoch\n",
        "\t\t#print('Time for epoch {} is {} sec d1={}, d2={}, g={}'.format(i + 1, time.time() - start, d_loss1, d_loss2, g_loss))\n",
        "    print('Time for epoch %d: %.3f sec d1=%.3f d2=%.3f g=%.3f' % (i + 1, time.time() - start, d_loss1, d_loss2, g_loss))\n",
        "\t# save the generator model\n",
        "\tg_model.save('generator.h5')"
      ],
      "execution_count": 18,
      "outputs": []
    },
    {
      "cell_type": "code",
      "metadata": {
        "colab": {
          "base_uri": "https://localhost:8080/"
        },
        "id": "Bpk4fz5vNDPM",
        "outputId": "e979ff7c-f365-4c59-b7da-d888c5f6be6d"
      },
      "source": [
        "# size of the latent space\n",
        "latent_dim = 100\n",
        "# create the discriminator\n",
        "discriminator = define_discriminator()\n",
        "# create the generator\n",
        "generator = define_generator(latent_dim)\n",
        "# create the gan\n",
        "gan_model = define_gan(generator, discriminator)\n",
        "# load image data\n",
        "dataset = X_train\n",
        "# train model\n",
        "train(generator, discriminator, gan_model, dataset, latent_dim)"
      ],
      "execution_count": 19,
      "outputs": [
        {
          "output_type": "stream",
          "text": [
            "Time for epoch 1 is 0.14087605476379395 sec d1=0.6117143034934998, d2=0.7783929109573364, g=0.6320418119430542\n",
            "Time for epoch 2 is 0.14034795761108398 sec d1=0.6999088525772095, d2=0.6914576292037964, g=0.701718807220459\n",
            "Time for epoch 3 is 0.1446678638458252 sec d1=0.6950371265411377, d2=0.6939884424209595, g=0.6970106959342957\n",
            "Time for epoch 4 is 0.14343523979187012 sec d1=0.6897159814834595, d2=0.699286699295044, g=0.6918249130249023\n",
            "Time for epoch 5 is 0.1455085277557373 sec d1=0.6996382474899292, d2=0.6904398798942566, g=0.6975921392440796\n",
            "Time for epoch 6 is 0.14499425888061523 sec d1=0.6977068185806274, d2=0.6892273426055908, g=0.7031652927398682\n",
            "Time for epoch 7 is 0.14883112907409668 sec d1=0.6997402906417847, d2=0.6890703439712524, g=0.7003732919692993\n",
            "Time for epoch 8 is 0.14979863166809082 sec d1=0.6934822797775269, d2=0.6894676089286804, g=0.7003471851348877\n",
            "Time for epoch 9 is 0.14416217803955078 sec d1=0.6925143599510193, d2=0.6909269690513611, g=0.698248028755188\n",
            "Time for epoch 10 is 0.14554452896118164 sec d1=0.6832264065742493, d2=0.710870623588562, g=0.6819945573806763\n",
            "Time for epoch 11 is 0.1455552577972412 sec d1=0.6905257701873779, d2=0.6961024403572083, g=0.6921086311340332\n",
            "Time for epoch 12 is 0.14423775672912598 sec d1=0.6962498426437378, d2=0.6906689405441284, g=0.6995735168457031\n",
            "Time for epoch 13 is 0.14551186561584473 sec d1=0.6927304267883301, d2=0.6973896026611328, g=0.6969996094703674\n",
            "Time for epoch 14 is 0.14686822891235352 sec d1=0.6953734755516052, d2=0.6956343054771423, g=0.6955399513244629\n",
            "Time for epoch 15 is 0.14561748504638672 sec d1=0.6948002576828003, d2=0.6939122676849365, g=0.6944704055786133\n",
            "Time for epoch 16 is 0.14460062980651855 sec d1=0.6942541599273682, d2=0.6925632953643799, g=0.6969056725502014\n",
            "Time for epoch 17 is 0.14939212799072266 sec d1=0.6957037448883057, d2=0.6902408599853516, g=0.7003032565116882\n",
            "Time for epoch 18 is 0.14626693725585938 sec d1=0.6921733617782593, d2=0.6960444450378418, g=0.6940774321556091\n",
            "Time for epoch 19 is 0.14416241645812988 sec d1=0.6927867531776428, d2=0.6932067275047302, g=0.6967517733573914\n",
            "Time for epoch 20 is 0.14920616149902344 sec d1=0.6929562091827393, d2=0.6898037195205688, g=0.7009803652763367\n",
            "Time for epoch 21 is 0.14697957038879395 sec d1=0.691580057144165, d2=0.6896606683731079, g=0.6997178792953491\n",
            "Time for epoch 22 is 0.14585542678833008 sec d1=0.6905504465103149, d2=0.6951125860214233, g=0.6954365968704224\n",
            "Time for epoch 23 is 0.14707279205322266 sec d1=0.6937708854675293, d2=0.6957629323005676, g=0.6940116882324219\n",
            "Time for epoch 24 is 0.14696431159973145 sec d1=0.6925222277641296, d2=0.6957936882972717, g=0.6950666904449463\n",
            "Time for epoch 25 is 0.14715933799743652 sec d1=0.6943947672843933, d2=0.6906150579452515, g=0.6983054876327515\n",
            "Time for epoch 26 is 0.14614152908325195 sec d1=0.695408046245575, d2=0.6961063146591187, g=0.6943029165267944\n",
            "Time for epoch 27 is 0.14589238166809082 sec d1=0.6932135820388794, d2=0.6915445327758789, g=0.6965632438659668\n",
            "Time for epoch 28 is 0.1460585594177246 sec d1=0.6956822872161865, d2=0.6937074065208435, g=0.6961480379104614\n",
            "Time for epoch 29 is 0.14682483673095703 sec d1=0.692135751247406, d2=0.694839358329773, g=0.6938301920890808\n",
            "Time for epoch 30 is 0.14641690254211426 sec d1=0.6957591772079468, d2=0.691459596157074, g=0.6960886716842651\n",
            "Time for epoch 31 is 0.14817142486572266 sec d1=0.6936207413673401, d2=0.6939970850944519, g=0.69591224193573\n",
            "Time for epoch 32 is 0.153059720993042 sec d1=0.6944591999053955, d2=0.6949359178543091, g=0.6970266103744507\n",
            "Time for epoch 33 is 0.15581464767456055 sec d1=0.6929967999458313, d2=0.6943425536155701, g=0.6953449249267578\n",
            "Time for epoch 34 is 0.14672255516052246 sec d1=0.6933965682983398, d2=0.69273442029953, g=0.6973825693130493\n",
            "Time for epoch 35 is 0.14621472358703613 sec d1=0.6970749497413635, d2=0.6930680274963379, g=0.6956563591957092\n",
            "Time for epoch 36 is 0.14673066139221191 sec d1=0.6952570676803589, d2=0.6910560727119446, g=0.6973729133605957\n",
            "Time for epoch 37 is 0.14686918258666992 sec d1=0.6941917538642883, d2=0.6936568021774292, g=0.6955428719520569\n",
            "Time for epoch 38 is 0.14632320404052734 sec d1=0.6929704546928406, d2=0.6907365322113037, g=0.6997923254966736\n",
            "Time for epoch 39 is 0.1458585262298584 sec d1=0.693516194820404, d2=0.6927700638771057, g=0.6942224502563477\n",
            "Time for epoch 40 is 0.14691376686096191 sec d1=0.694091796875, d2=0.6946091651916504, g=0.6962722539901733\n",
            "Time for epoch 41 is 0.14533543586730957 sec d1=0.6941768527030945, d2=0.6959995031356812, g=0.6931256651878357\n",
            "Time for epoch 42 is 0.14606261253356934 sec d1=0.6929728984832764, d2=0.6943474411964417, g=0.6939443349838257\n",
            "Time for epoch 43 is 0.14806604385375977 sec d1=0.6933177709579468, d2=0.6942353248596191, g=0.6955280900001526\n",
            "Time for epoch 44 is 0.14689326286315918 sec d1=0.6937184929847717, d2=0.6935995221138, g=0.6954312920570374\n",
            "Time for epoch 45 is 0.1475081443786621 sec d1=0.6943022012710571, d2=0.6938225626945496, g=0.6944778561592102\n",
            "Time for epoch 46 is 0.1464087963104248 sec d1=0.6948119401931763, d2=0.6923779845237732, g=0.6958431005477905\n",
            "Time for epoch 47 is 0.14584589004516602 sec d1=0.6943166255950928, d2=0.6941478848457336, g=0.693766713142395\n",
            "Time for epoch 48 is 0.15317463874816895 sec d1=0.6940959692001343, d2=0.6938157677650452, g=0.6958551406860352\n",
            "Time for epoch 49 is 0.14664721488952637 sec d1=0.6930611729621887, d2=0.6955699920654297, g=0.6930211186408997\n",
            "Time for epoch 50 is 0.14769744873046875 sec d1=0.6940288543701172, d2=0.6938574314117432, g=0.6953060030937195\n",
            "Time for epoch 51 is 0.14597821235656738 sec d1=0.6940077543258667, d2=0.6942585110664368, g=0.6940791606903076\n",
            "Time for epoch 52 is 0.14627671241760254 sec d1=0.6938008069992065, d2=0.6945807337760925, g=0.694683313369751\n",
            "Time for epoch 53 is 0.15100932121276855 sec d1=0.6951295137405396, d2=0.6931586265563965, g=0.694612979888916\n",
            "Time for epoch 54 is 0.1486341953277588 sec d1=0.6920602321624756, d2=0.6972473859786987, g=0.6931331157684326\n",
            "Time for epoch 55 is 0.14657878875732422 sec d1=0.6934821009635925, d2=0.6930049061775208, g=0.6953840851783752\n",
            "Time for epoch 56 is 0.1455070972442627 sec d1=0.6945415735244751, d2=0.6961944103240967, g=0.6933882236480713\n",
            "Time for epoch 57 is 0.15001273155212402 sec d1=0.6947014331817627, d2=0.6930150985717773, g=0.694205641746521\n",
            "Time for epoch 58 is 0.15027546882629395 sec d1=0.6941254138946533, d2=0.6949090361595154, g=0.6940876245498657\n",
            "Time for epoch 59 is 0.1473391056060791 sec d1=0.6907203197479248, d2=0.6927083730697632, g=0.6954693794250488\n",
            "Time for epoch 60 is 0.14695096015930176 sec d1=0.6948257088661194, d2=0.6942048072814941, g=0.6945112943649292\n",
            "Time for epoch 61 is 0.1444838047027588 sec d1=0.69258713722229, d2=0.69356369972229, g=0.6947923302650452\n",
            "Time for epoch 62 is 0.14562010765075684 sec d1=0.6937140822410583, d2=0.6940675973892212, g=0.6944552659988403\n",
            "Time for epoch 63 is 0.1495504379272461 sec d1=0.6932702660560608, d2=0.6944175958633423, g=0.694776177406311\n",
            "Time for epoch 64 is 0.1473252773284912 sec d1=0.6932351589202881, d2=0.6953895092010498, g=0.6941866874694824\n",
            "Time for epoch 65 is 0.1457195281982422 sec d1=0.6941573619842529, d2=0.6933258175849915, g=0.6934626698493958\n",
            "Time for epoch 66 is 0.1456923484802246 sec d1=0.6931102275848389, d2=0.6958320140838623, g=0.6930392980575562\n",
            "Time for epoch 67 is 0.14453983306884766 sec d1=0.6934491395950317, d2=0.6944971084594727, g=0.6940053701400757\n",
            "Time for epoch 68 is 0.1467728614807129 sec d1=0.6945791244506836, d2=0.6936277151107788, g=0.6938842535018921\n",
            "Time for epoch 69 is 0.14559412002563477 sec d1=0.6934735178947449, d2=0.6939049959182739, g=0.6934476494789124\n",
            "Time for epoch 70 is 0.14597511291503906 sec d1=0.6934637427330017, d2=0.6932908892631531, g=0.6936880946159363\n",
            "Time for epoch 71 is 0.14479851722717285 sec d1=0.6941805481910706, d2=0.6934616565704346, g=0.6948444843292236\n",
            "Time for epoch 72 is 0.14626574516296387 sec d1=0.6941529512405396, d2=0.6927363872528076, g=0.6950057744979858\n",
            "Time for epoch 73 is 0.14499235153198242 sec d1=0.6935299634933472, d2=0.6940134763717651, g=0.6942879557609558\n",
            "Time for epoch 74 is 0.1461653709411621 sec d1=0.6935546398162842, d2=0.6943663358688354, g=0.6939477324485779\n",
            "Time for epoch 75 is 0.14635181427001953 sec d1=0.6938018202781677, d2=0.6942113637924194, g=0.6942977905273438\n",
            "Time for epoch 76 is 0.14491868019104004 sec d1=0.6930667757987976, d2=0.6943624019622803, g=0.6937705278396606\n",
            "Time for epoch 77 is 0.14661431312561035 sec d1=0.6934924721717834, d2=0.6934783458709717, g=0.6942044496536255\n",
            "Time for epoch 78 is 0.14554715156555176 sec d1=0.6943860650062561, d2=0.6939747929573059, g=0.693713903427124\n",
            "Time for epoch 79 is 0.14862632751464844 sec d1=0.6934150457382202, d2=0.6937692761421204, g=0.6937097311019897\n",
            "Time for epoch 80 is 0.146148681640625 sec d1=0.6937888860702515, d2=0.6923364400863647, g=0.6932681798934937\n",
            "Time for epoch 81 is 0.14515209197998047 sec d1=0.6938857436180115, d2=0.6931498050689697, g=0.694266140460968\n",
            "Time for epoch 82 is 0.1459040641784668 sec d1=0.6946164965629578, d2=0.6931076645851135, g=0.6948386430740356\n",
            "Time for epoch 83 is 0.1454606056213379 sec d1=0.6935969591140747, d2=0.6945894956588745, g=0.6932891607284546\n",
            "Time for epoch 84 is 0.1456308364868164 sec d1=0.6937571167945862, d2=0.6929810047149658, g=0.694579005241394\n",
            "Time for epoch 85 is 0.1477367877960205 sec d1=0.6931092143058777, d2=0.6953060030937195, g=0.6930055618286133\n",
            "Time for epoch 86 is 0.15336132049560547 sec d1=0.6935781240463257, d2=0.6941512227058411, g=0.6933931708335876\n",
            "Time for epoch 87 is 0.14719414710998535 sec d1=0.6930645704269409, d2=0.6939008235931396, g=0.693748950958252\n",
            "Time for epoch 88 is 0.1461029052734375 sec d1=0.6936625242233276, d2=0.6930285096168518, g=0.6944347620010376\n",
            "Time for epoch 89 is 0.15062284469604492 sec d1=0.6933480501174927, d2=0.6939932107925415, g=0.6931725144386292\n",
            "Time for epoch 90 is 0.15015864372253418 sec d1=0.6936981678009033, d2=0.694919228553772, g=0.694065272808075\n",
            "Time for epoch 91 is 0.14534378051757812 sec d1=0.6934908628463745, d2=0.69316166639328, g=0.6941173672676086\n",
            "Time for epoch 92 is 0.14607644081115723 sec d1=0.6926189064979553, d2=0.6942272782325745, g=0.6936583518981934\n",
            "Time for epoch 93 is 0.14571285247802734 sec d1=0.6940802335739136, d2=0.6929221153259277, g=0.6942625045776367\n",
            "Time for epoch 94 is 0.14763784408569336 sec d1=0.6937709450721741, d2=0.693353533744812, g=0.6939605474472046\n",
            "Time for epoch 95 is 0.1450202465057373 sec d1=0.6929322481155396, d2=0.6938201189041138, g=0.6931464672088623\n",
            "Time for epoch 96 is 0.14577150344848633 sec d1=0.6938489675521851, d2=0.6934102773666382, g=0.6936304569244385\n",
            "Time for epoch 97 is 0.14580559730529785 sec d1=0.6936756372451782, d2=0.6936815977096558, g=0.6935099959373474\n",
            "Time for epoch 98 is 0.14676833152770996 sec d1=0.6939019560813904, d2=0.6927642822265625, g=0.6942341327667236\n",
            "Time for epoch 99 is 0.14704394340515137 sec d1=0.693547785282135, d2=0.6940357685089111, g=0.6941384673118591\n",
            "Time for epoch 100 is 0.14542150497436523 sec d1=0.6947882175445557, d2=0.6931326985359192, g=0.6938744783401489\n"
          ],
          "name": "stdout"
        }
      ]
    },
    {
      "cell_type": "code",
      "metadata": {
        "id": "-yG9wr03NDPM"
      },
      "source": [
        "# generate points in latent space as input for the generator\n",
        "def generate_latent_points(latent_dim, n_samples):\n",
        "\t# generate points in the latent space\n",
        "\tx_input = randn(latent_dim * n_samples)\n",
        "\t# reshape into a batch of inputs for the network\n",
        "\tx_input = x_input.reshape(n_samples, latent_dim)\n",
        "\treturn x_input"
      ],
      "execution_count": 20,
      "outputs": []
    },
    {
      "cell_type": "code",
      "metadata": {
        "colab": {
          "base_uri": "https://localhost:8080/",
          "height": 265
        },
        "id": "NSDvj0OlNDPN",
        "outputId": "3872899a-5d36-416a-99c4-a907f79a1357"
      },
      "source": [
        "# create and save a plot of generated images (reversed grayscale)\n",
        "def show_plot(examples, n):\n",
        "\t# plot images\n",
        "\tfor i in range(n * n):\n",
        "\t\t# define subplot\n",
        "\t\tplt.subplot(n, n, 1 + i)\n",
        "\t\t# turn off axis\n",
        "\t\tplt.axis('off')\n",
        "\t\t# plot raw pixel data\n",
        "\t\tplt.imshow(examples[i, :, :, 0], cmap='gray_r')\n",
        "\tplt.show()\n",
        "\n",
        "# load model\n",
        "model = load_model('generator.h5')\n",
        "# generate images\n",
        "latent_points = generate_latent_points(100, 100)\n",
        "# generate images\n",
        "X = model.predict(latent_points)\n",
        "# plot the result\n",
        "show_plot(X, 10)"
      ],
      "execution_count": 21,
      "outputs": [
        {
          "output_type": "stream",
          "text": [
            "WARNING:tensorflow:No training configuration found in the save file, so the model was *not* compiled. Compile it manually.\n"
          ],
          "name": "stdout"
        },
        {
          "output_type": "display_data",
          "data": {
            "image/png": "[encoded data removed]",
            "text/plain": [
              "<Figure size 432x288 with 100 Axes>"
            ]
          },
          "metadata": {
            "tags": [],
            "needs_background": "light"
          }
        }
      ]
    }
  ]
}
